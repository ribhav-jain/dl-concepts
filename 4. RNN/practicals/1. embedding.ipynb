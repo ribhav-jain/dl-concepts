{
 "cells": [
  {
   "cell_type": "code",
   "execution_count": 1,
   "metadata": {},
   "outputs": [],
   "source": [
    "from tensorflow.keras.preprocessing.text import one_hot"
   ]
  },
  {
   "cell_type": "code",
   "execution_count": 2,
   "metadata": {},
   "outputs": [],
   "source": [
    "# Sentences\n",
    "sent = [\n",
    "    \"The glass of milk\",\n",
    "    \"The glass of juice\",\n",
    "    \"The cup of tea\",\n",
    "    \"I am a good boy\",\n",
    "    \"I am a good developer\",\n",
    "    \"Understand the meaning of words\",\n",
    "    \"your videos are good\",\n",
    "]"
   ]
  },
  {
   "cell_type": "code",
   "execution_count": 3,
   "metadata": {},
   "outputs": [],
   "source": [
    "## Define the vocabulary size\n",
    "voc_size = 10000"
   ]
  },
  {
   "cell_type": "code",
   "execution_count": 4,
   "metadata": {},
   "outputs": [
    {
     "data": {
      "text/plain": [
       "[[5568, 8551, 9028, 5875],\n",
       " [5568, 8551, 9028, 5824],\n",
       " [5568, 2876, 9028, 3585],\n",
       " [5726, 1810, 1010, 4889, 6011],\n",
       " [5726, 1810, 1010, 4889, 8917],\n",
       " [3091, 5568, 5817, 9028, 8511],\n",
       " [7238, 4970, 9986, 4889]]"
      ]
     },
     "execution_count": 4,
     "metadata": {},
     "output_type": "execute_result"
    }
   ],
   "source": [
    "# One Hot Representation\n",
    "one_hot_repr = [one_hot(words, voc_size) for words in sent]\n",
    "one_hot_repr"
   ]
  },
  {
   "cell_type": "code",
   "execution_count": 5,
   "metadata": {},
   "outputs": [],
   "source": [
    "# Word embedding representation\n",
    "\n",
    "from tensorflow.keras.layers import Embedding\n",
    "\n",
    "from tensorflow.keras.utils import pad_sequences\n",
    "from tensorflow.keras.models import Sequential"
   ]
  },
  {
   "cell_type": "code",
   "execution_count": 6,
   "metadata": {},
   "outputs": [
    {
     "name": "stdout",
     "output_type": "stream",
     "text": [
      "[[   0    0    0    0 5568 8551 9028 5875]\n",
      " [   0    0    0    0 5568 8551 9028 5824]\n",
      " [   0    0    0    0 5568 2876 9028 3585]\n",
      " [   0    0    0 5726 1810 1010 4889 6011]\n",
      " [   0    0    0 5726 1810 1010 4889 8917]\n",
      " [   0    0    0 3091 5568 5817 9028 8511]\n",
      " [   0    0    0    0 7238 4970 9986 4889]]\n"
     ]
    }
   ],
   "source": [
    "sent_length = 8\n",
    "embedded_docs = pad_sequences(one_hot_repr, padding=\"pre\", maxlen=sent_length)\n",
    "print(embedded_docs)"
   ]
  },
  {
   "cell_type": "code",
   "execution_count": 7,
   "metadata": {},
   "outputs": [],
   "source": [
    "## Feature representation\n",
    "dim = 10"
   ]
  },
  {
   "cell_type": "code",
   "execution_count": 8,
   "metadata": {},
   "outputs": [],
   "source": [
    "# Embedding Layer: Internal Working Explained\n",
    "#\n",
    "# The Embedding layer in Keras is used to represent each word (or token) as a dense vector.\n",
    "# Instead of using one-hot vectors (which are sparse and high-dimensional),\n",
    "# this layer maps each integer (word index) to a fixed-size dense vector.\n",
    "#\n",
    "# Internally, this is done using a trainable weight matrix of shape (vocab_size, embedding_dim).\n",
    "# Each row in this matrix corresponds to the embedding of a word in the vocabulary.\n",
    "\n",
    "# Example:\n",
    "# If voc_size = 10000 (10k unique words), and dim = 100 (each word maps to a 100-d vector),\n",
    "# then the embedding matrix is of shape (10000, 100)\n",
    "\n",
    "# When you input a sequence like [4, 56, 172, 9], the embedding layer:\n",
    "# - Looks up the corresponding rows for indices 4, 56, 172, and 9 in the embedding matrix\n",
    "# - Returns a matrix of shape (sequence_length, embedding_dim) — in this case, (4, 100)\n",
    "\n",
    "# During training, the embedding matrix is updated using backpropagation to capture\n",
    "# semantic meanings — words used in similar contexts end up with similar vectors.\n",
    "\n",
    "# Summary of the process:\n",
    "# 1. Input: sequence of integers (word indices) -> shape: (batch_size, sequence_length)\n",
    "# 2. Output: sequence of vectors -> shape: (batch_size, sequence_length, embedding_dim)\n",
    "# 3. The embedding matrix is initialized randomly (or pre-trained) and is trainable"
   ]
  },
  {
   "cell_type": "code",
   "execution_count": 9,
   "metadata": {},
   "outputs": [
    {
     "name": "stderr",
     "output_type": "stream",
     "text": [
      "c:\\Users\\ribhav.jain\\AppData\\Local\\anaconda3\\Lib\\site-packages\\keras\\src\\layers\\core\\embedding.py:90: UserWarning: Argument `input_length` is deprecated. Just remove it.\n",
      "  warnings.warn(\n"
     ]
    }
   ],
   "source": [
    "# Create a Sequential model — this means the model will have a linear stack of layers\n",
    "model = Sequential()\n",
    "\n",
    "# Add an Embedding layer to the model\n",
    "# -----------------------------------\n",
    "# Embedding layer is used to convert integer-encoded words into dense vector representations\n",
    "# Parameters:\n",
    "# - voc_size: Total number of unique words in the vocabulary (vocabulary size)\n",
    "# - dim: Dimension of the dense embedding vectors (e.g., 100, 128, 300, etc.)\n",
    "# - input_length: Length of each input sequence (number of words per input text)\n",
    "#\n",
    "# This layer transforms input of shape (batch_size, input_length) into\n",
    "# output shape (batch_size, input_length, dim), where each word index is mapped to a vector\n",
    "model.add(Embedding(input_dim=voc_size, output_dim=dim, input_length=sent_length))\n",
    "\n",
    "# Compile the model\n",
    "# The compile step configures the learning process\n",
    "# - \"adam\" is the optimizer used for updating weights — it's efficient and works well for most problems\n",
    "# - \"mse\" (Mean Squared Error) is used as the loss function — this is typically used for regression tasks.\n",
    "model.compile(optimizer=\"adam\", loss=\"mse\")"
   ]
  },
  {
   "cell_type": "code",
   "execution_count": 10,
   "metadata": {},
   "outputs": [
    {
     "data": {
      "text/html": [
       "<pre style=\"white-space:pre;overflow-x:auto;line-height:normal;font-family:Menlo,'DejaVu Sans Mono',consolas,'Courier New',monospace\"><span style=\"font-weight: bold\">Model: \"sequential\"</span>\n",
       "</pre>\n"
      ],
      "text/plain": [
       "\u001b[1mModel: \"sequential\"\u001b[0m\n"
      ]
     },
     "metadata": {},
     "output_type": "display_data"
    },
    {
     "data": {
      "text/html": [
       "<pre style=\"white-space:pre;overflow-x:auto;line-height:normal;font-family:Menlo,'DejaVu Sans Mono',consolas,'Courier New',monospace\">┏━━━━━━━━━━━━━━━━━━━━━━━━━━━━━━━━━┳━━━━━━━━━━━━━━━━━━━━━━━━┳━━━━━━━━━━━━━━━┓\n",
       "┃<span style=\"font-weight: bold\"> Layer (type)                    </span>┃<span style=\"font-weight: bold\"> Output Shape           </span>┃<span style=\"font-weight: bold\">       Param # </span>┃\n",
       "┡━━━━━━━━━━━━━━━━━━━━━━━━━━━━━━━━━╇━━━━━━━━━━━━━━━━━━━━━━━━╇━━━━━━━━━━━━━━━┩\n",
       "│ embedding (<span style=\"color: #0087ff; text-decoration-color: #0087ff\">Embedding</span>)           │ ?                      │   <span style=\"color: #00af00; text-decoration-color: #00af00\">0</span> (unbuilt) │\n",
       "└─────────────────────────────────┴────────────────────────┴───────────────┘\n",
       "</pre>\n"
      ],
      "text/plain": [
       "┏━━━━━━━━━━━━━━━━━━━━━━━━━━━━━━━━━┳━━━━━━━━━━━━━━━━━━━━━━━━┳━━━━━━━━━━━━━━━┓\n",
       "┃\u001b[1m \u001b[0m\u001b[1mLayer (type)                   \u001b[0m\u001b[1m \u001b[0m┃\u001b[1m \u001b[0m\u001b[1mOutput Shape          \u001b[0m\u001b[1m \u001b[0m┃\u001b[1m \u001b[0m\u001b[1m      Param #\u001b[0m\u001b[1m \u001b[0m┃\n",
       "┡━━━━━━━━━━━━━━━━━━━━━━━━━━━━━━━━━╇━━━━━━━━━━━━━━━━━━━━━━━━╇━━━━━━━━━━━━━━━┩\n",
       "│ embedding (\u001b[38;5;33mEmbedding\u001b[0m)           │ ?                      │   \u001b[38;5;34m0\u001b[0m (unbuilt) │\n",
       "└─────────────────────────────────┴────────────────────────┴───────────────┘\n"
      ]
     },
     "metadata": {},
     "output_type": "display_data"
    },
    {
     "data": {
      "text/html": [
       "<pre style=\"white-space:pre;overflow-x:auto;line-height:normal;font-family:Menlo,'DejaVu Sans Mono',consolas,'Courier New',monospace\"><span style=\"font-weight: bold\"> Total params: </span><span style=\"color: #00af00; text-decoration-color: #00af00\">0</span> (0.00 B)\n",
       "</pre>\n"
      ],
      "text/plain": [
       "\u001b[1m Total params: \u001b[0m\u001b[38;5;34m0\u001b[0m (0.00 B)\n"
      ]
     },
     "metadata": {},
     "output_type": "display_data"
    },
    {
     "data": {
      "text/html": [
       "<pre style=\"white-space:pre;overflow-x:auto;line-height:normal;font-family:Menlo,'DejaVu Sans Mono',consolas,'Courier New',monospace\"><span style=\"font-weight: bold\"> Trainable params: </span><span style=\"color: #00af00; text-decoration-color: #00af00\">0</span> (0.00 B)\n",
       "</pre>\n"
      ],
      "text/plain": [
       "\u001b[1m Trainable params: \u001b[0m\u001b[38;5;34m0\u001b[0m (0.00 B)\n"
      ]
     },
     "metadata": {},
     "output_type": "display_data"
    },
    {
     "data": {
      "text/html": [
       "<pre style=\"white-space:pre;overflow-x:auto;line-height:normal;font-family:Menlo,'DejaVu Sans Mono',consolas,'Courier New',monospace\"><span style=\"font-weight: bold\"> Non-trainable params: </span><span style=\"color: #00af00; text-decoration-color: #00af00\">0</span> (0.00 B)\n",
       "</pre>\n"
      ],
      "text/plain": [
       "\u001b[1m Non-trainable params: \u001b[0m\u001b[38;5;34m0\u001b[0m (0.00 B)\n"
      ]
     },
     "metadata": {},
     "output_type": "display_data"
    }
   ],
   "source": [
    "model.summary()"
   ]
  },
  {
   "cell_type": "code",
   "execution_count": 11,
   "metadata": {},
   "outputs": [
    {
     "name": "stdout",
     "output_type": "stream",
     "text": [
      "\u001b[1m1/1\u001b[0m \u001b[32m━━━━━━━━━━━━━━━━━━━━\u001b[0m\u001b[37m\u001b[0m \u001b[1m0s\u001b[0m 231ms/step\n"
     ]
    },
    {
     "data": {
      "text/plain": [
       "array([[[ 2.0660758e-03, -5.0330162e-03, -1.6095266e-03,  4.6050299e-02,\n",
       "         -3.4905992e-02,  2.8494272e-02,  1.9751489e-05, -1.1864983e-02,\n",
       "         -3.4263022e-03, -1.9236922e-02],\n",
       "        [ 2.0660758e-03, -5.0330162e-03, -1.6095266e-03,  4.6050299e-02,\n",
       "         -3.4905992e-02,  2.8494272e-02,  1.9751489e-05, -1.1864983e-02,\n",
       "         -3.4263022e-03, -1.9236922e-02],\n",
       "        [ 2.0660758e-03, -5.0330162e-03, -1.6095266e-03,  4.6050299e-02,\n",
       "         -3.4905992e-02,  2.8494272e-02,  1.9751489e-05, -1.1864983e-02,\n",
       "         -3.4263022e-03, -1.9236922e-02],\n",
       "        [ 2.0660758e-03, -5.0330162e-03, -1.6095266e-03,  4.6050299e-02,\n",
       "         -3.4905992e-02,  2.8494272e-02,  1.9751489e-05, -1.1864983e-02,\n",
       "         -3.4263022e-03, -1.9236922e-02],\n",
       "        [ 8.6981878e-03, -2.5889670e-02,  4.2415146e-02,  5.3854808e-03,\n",
       "         -2.3356711e-02,  4.2219210e-02,  4.9663376e-02, -1.1169504e-02,\n",
       "         -1.1303127e-02,  3.4552779e-02],\n",
       "        [-4.3614533e-02, -1.2159158e-02,  3.6267292e-02, -4.9589396e-02,\n",
       "         -2.4407482e-02,  3.9311338e-02, -4.6098243e-02,  4.3265317e-02,\n",
       "          1.2771670e-02,  2.8225455e-02],\n",
       "        [-6.8392754e-03, -1.5358757e-02, -2.0224834e-02,  9.2170350e-03,\n",
       "          2.8542254e-02, -3.7094593e-02,  1.8356416e-02,  1.3609018e-02,\n",
       "          2.0781841e-02, -4.5363903e-02],\n",
       "        [-1.3359211e-02, -2.7649343e-02,  3.7230141e-03,  4.8500661e-02,\n",
       "          1.7450940e-02, -3.1708494e-02, -4.0175736e-02, -1.6043298e-03,\n",
       "          3.1276356e-02, -1.2800217e-02]],\n",
       "\n",
       "       [[ 2.0660758e-03, -5.0330162e-03, -1.6095266e-03,  4.6050299e-02,\n",
       "         -3.4905992e-02,  2.8494272e-02,  1.9751489e-05, -1.1864983e-02,\n",
       "         -3.4263022e-03, -1.9236922e-02],\n",
       "        [ 2.0660758e-03, -5.0330162e-03, -1.6095266e-03,  4.6050299e-02,\n",
       "         -3.4905992e-02,  2.8494272e-02,  1.9751489e-05, -1.1864983e-02,\n",
       "         -3.4263022e-03, -1.9236922e-02],\n",
       "        [ 2.0660758e-03, -5.0330162e-03, -1.6095266e-03,  4.6050299e-02,\n",
       "         -3.4905992e-02,  2.8494272e-02,  1.9751489e-05, -1.1864983e-02,\n",
       "         -3.4263022e-03, -1.9236922e-02],\n",
       "        [ 2.0660758e-03, -5.0330162e-03, -1.6095266e-03,  4.6050299e-02,\n",
       "         -3.4905992e-02,  2.8494272e-02,  1.9751489e-05, -1.1864983e-02,\n",
       "         -3.4263022e-03, -1.9236922e-02],\n",
       "        [ 8.6981878e-03, -2.5889670e-02,  4.2415146e-02,  5.3854808e-03,\n",
       "         -2.3356711e-02,  4.2219210e-02,  4.9663376e-02, -1.1169504e-02,\n",
       "         -1.1303127e-02,  3.4552779e-02],\n",
       "        [-4.3614533e-02, -1.2159158e-02,  3.6267292e-02, -4.9589396e-02,\n",
       "         -2.4407482e-02,  3.9311338e-02, -4.6098243e-02,  4.3265317e-02,\n",
       "          1.2771670e-02,  2.8225455e-02],\n",
       "        [-6.8392754e-03, -1.5358757e-02, -2.0224834e-02,  9.2170350e-03,\n",
       "          2.8542254e-02, -3.7094593e-02,  1.8356416e-02,  1.3609018e-02,\n",
       "          2.0781841e-02, -4.5363903e-02],\n",
       "        [ 4.0296022e-02,  4.4066850e-02, -4.4446051e-02, -1.9353498e-02,\n",
       "         -3.0549979e-02, -8.5221156e-03, -2.8912520e-02,  3.2129016e-02,\n",
       "          1.0367297e-02, -4.5314133e-02]],\n",
       "\n",
       "       [[ 2.0660758e-03, -5.0330162e-03, -1.6095266e-03,  4.6050299e-02,\n",
       "         -3.4905992e-02,  2.8494272e-02,  1.9751489e-05, -1.1864983e-02,\n",
       "         -3.4263022e-03, -1.9236922e-02],\n",
       "        [ 2.0660758e-03, -5.0330162e-03, -1.6095266e-03,  4.6050299e-02,\n",
       "         -3.4905992e-02,  2.8494272e-02,  1.9751489e-05, -1.1864983e-02,\n",
       "         -3.4263022e-03, -1.9236922e-02],\n",
       "        [ 2.0660758e-03, -5.0330162e-03, -1.6095266e-03,  4.6050299e-02,\n",
       "         -3.4905992e-02,  2.8494272e-02,  1.9751489e-05, -1.1864983e-02,\n",
       "         -3.4263022e-03, -1.9236922e-02],\n",
       "        [ 2.0660758e-03, -5.0330162e-03, -1.6095266e-03,  4.6050299e-02,\n",
       "         -3.4905992e-02,  2.8494272e-02,  1.9751489e-05, -1.1864983e-02,\n",
       "         -3.4263022e-03, -1.9236922e-02],\n",
       "        [ 8.6981878e-03, -2.5889670e-02,  4.2415146e-02,  5.3854808e-03,\n",
       "         -2.3356711e-02,  4.2219210e-02,  4.9663376e-02, -1.1169504e-02,\n",
       "         -1.1303127e-02,  3.4552779e-02],\n",
       "        [ 2.6985172e-02,  4.8521589e-02, -3.4207925e-03, -3.1574309e-02,\n",
       "         -3.6456358e-02,  2.2920761e-02, -4.1354895e-02,  1.0541938e-02,\n",
       "          2.5456164e-02,  6.8040714e-03],\n",
       "        [-6.8392754e-03, -1.5358757e-02, -2.0224834e-02,  9.2170350e-03,\n",
       "          2.8542254e-02, -3.7094593e-02,  1.8356416e-02,  1.3609018e-02,\n",
       "          2.0781841e-02, -4.5363903e-02],\n",
       "        [ 2.8592478e-02,  1.9607399e-02,  1.1270531e-03,  1.3978664e-02,\n",
       "          4.6237562e-02, -2.5851643e-02,  1.3680164e-02,  2.0965282e-02,\n",
       "          2.5629546e-02,  2.1072816e-02]],\n",
       "\n",
       "       [[ 2.0660758e-03, -5.0330162e-03, -1.6095266e-03,  4.6050299e-02,\n",
       "         -3.4905992e-02,  2.8494272e-02,  1.9751489e-05, -1.1864983e-02,\n",
       "         -3.4263022e-03, -1.9236922e-02],\n",
       "        [ 2.0660758e-03, -5.0330162e-03, -1.6095266e-03,  4.6050299e-02,\n",
       "         -3.4905992e-02,  2.8494272e-02,  1.9751489e-05, -1.1864983e-02,\n",
       "         -3.4263022e-03, -1.9236922e-02],\n",
       "        [ 2.0660758e-03, -5.0330162e-03, -1.6095266e-03,  4.6050299e-02,\n",
       "         -3.4905992e-02,  2.8494272e-02,  1.9751489e-05, -1.1864983e-02,\n",
       "         -3.4263022e-03, -1.9236922e-02],\n",
       "        [-1.3073705e-02, -3.6586057e-02,  2.9375527e-02,  6.6994913e-03,\n",
       "         -3.0133391e-02,  3.8782571e-02, -1.5639178e-03, -9.2087276e-03,\n",
       "          2.2839043e-02,  7.8263767e-03],\n",
       "        [-4.9415708e-02,  2.3253933e-03,  3.6652770e-02, -2.6466954e-02,\n",
       "          3.7225891e-02,  2.0102452e-02, -2.3277199e-02,  9.8208301e-03,\n",
       "          3.6678676e-02,  4.3352809e-02],\n",
       "        [ 4.5207132e-02, -1.2555636e-02, -2.5790906e-02, -2.6564276e-02,\n",
       "         -2.0247078e-02, -3.3527754e-02, -1.5714444e-02, -9.0931766e-03,\n",
       "         -2.7389575e-02, -1.1366855e-02],\n",
       "        [ 8.4887855e-03, -2.8753988e-03,  3.4284186e-02, -3.8868941e-02,\n",
       "         -2.6198698e-02, -4.5263734e-02,  1.6289879e-02, -4.1787960e-02,\n",
       "          2.6269555e-03,  1.6264644e-02],\n",
       "        [-4.8753500e-02, -4.7090616e-02,  2.8667938e-02,  3.3596288e-02,\n",
       "         -9.5273852e-03,  1.5770856e-02,  2.7932655e-02,  1.6367283e-02,\n",
       "          4.6526972e-02,  3.0153979e-02]],\n",
       "\n",
       "       [[ 2.0660758e-03, -5.0330162e-03, -1.6095266e-03,  4.6050299e-02,\n",
       "         -3.4905992e-02,  2.8494272e-02,  1.9751489e-05, -1.1864983e-02,\n",
       "         -3.4263022e-03, -1.9236922e-02],\n",
       "        [ 2.0660758e-03, -5.0330162e-03, -1.6095266e-03,  4.6050299e-02,\n",
       "         -3.4905992e-02,  2.8494272e-02,  1.9751489e-05, -1.1864983e-02,\n",
       "         -3.4263022e-03, -1.9236922e-02],\n",
       "        [ 2.0660758e-03, -5.0330162e-03, -1.6095266e-03,  4.6050299e-02,\n",
       "         -3.4905992e-02,  2.8494272e-02,  1.9751489e-05, -1.1864983e-02,\n",
       "         -3.4263022e-03, -1.9236922e-02],\n",
       "        [-1.3073705e-02, -3.6586057e-02,  2.9375527e-02,  6.6994913e-03,\n",
       "         -3.0133391e-02,  3.8782571e-02, -1.5639178e-03, -9.2087276e-03,\n",
       "          2.2839043e-02,  7.8263767e-03],\n",
       "        [-4.9415708e-02,  2.3253933e-03,  3.6652770e-02, -2.6466954e-02,\n",
       "          3.7225891e-02,  2.0102452e-02, -2.3277199e-02,  9.8208301e-03,\n",
       "          3.6678676e-02,  4.3352809e-02],\n",
       "        [ 4.5207132e-02, -1.2555636e-02, -2.5790906e-02, -2.6564276e-02,\n",
       "         -2.0247078e-02, -3.3527754e-02, -1.5714444e-02, -9.0931766e-03,\n",
       "         -2.7389575e-02, -1.1366855e-02],\n",
       "        [ 8.4887855e-03, -2.8753988e-03,  3.4284186e-02, -3.8868941e-02,\n",
       "         -2.6198698e-02, -4.5263734e-02,  1.6289879e-02, -4.1787960e-02,\n",
       "          2.6269555e-03,  1.6264644e-02],\n",
       "        [ 1.9380476e-02,  1.1653520e-02, -2.9017702e-03, -1.5496828e-02,\n",
       "         -2.6688671e-02,  2.2947539e-02, -3.8989067e-02,  2.8210435e-02,\n",
       "         -2.8261518e-02, -2.6883967e-03]],\n",
       "\n",
       "       [[ 2.0660758e-03, -5.0330162e-03, -1.6095266e-03,  4.6050299e-02,\n",
       "         -3.4905992e-02,  2.8494272e-02,  1.9751489e-05, -1.1864983e-02,\n",
       "         -3.4263022e-03, -1.9236922e-02],\n",
       "        [ 2.0660758e-03, -5.0330162e-03, -1.6095266e-03,  4.6050299e-02,\n",
       "         -3.4905992e-02,  2.8494272e-02,  1.9751489e-05, -1.1864983e-02,\n",
       "         -3.4263022e-03, -1.9236922e-02],\n",
       "        [ 2.0660758e-03, -5.0330162e-03, -1.6095266e-03,  4.6050299e-02,\n",
       "         -3.4905992e-02,  2.8494272e-02,  1.9751489e-05, -1.1864983e-02,\n",
       "         -3.4263022e-03, -1.9236922e-02],\n",
       "        [ 2.9928461e-03, -4.5579683e-02,  4.0854823e-02, -3.9255727e-02,\n",
       "          3.6612153e-03,  2.6062381e-02,  6.6234954e-03,  3.0946247e-03,\n",
       "         -2.3674166e-02,  4.8121158e-02],\n",
       "        [ 8.6981878e-03, -2.5889670e-02,  4.2415146e-02,  5.3854808e-03,\n",
       "         -2.3356711e-02,  4.2219210e-02,  4.9663376e-02, -1.1169504e-02,\n",
       "         -1.1303127e-02,  3.4552779e-02],\n",
       "        [-1.9908262e-02, -3.6869895e-02,  2.0018443e-03,  2.1684442e-02,\n",
       "          2.4660453e-03,  8.5540898e-03, -2.7603650e-02, -4.8717048e-02,\n",
       "         -4.8331141e-02, -7.8858733e-03],\n",
       "        [-6.8392754e-03, -1.5358757e-02, -2.0224834e-02,  9.2170350e-03,\n",
       "          2.8542254e-02, -3.7094593e-02,  1.8356416e-02,  1.3609018e-02,\n",
       "          2.0781841e-02, -4.5363903e-02],\n",
       "        [-2.4357975e-02, -5.7618506e-03,  3.1199083e-03, -5.8553703e-03,\n",
       "         -1.6612150e-02, -1.2854386e-02, -2.2012044e-02, -1.9598961e-02,\n",
       "         -4.6753883e-04, -2.2539878e-02]],\n",
       "\n",
       "       [[ 2.0660758e-03, -5.0330162e-03, -1.6095266e-03,  4.6050299e-02,\n",
       "         -3.4905992e-02,  2.8494272e-02,  1.9751489e-05, -1.1864983e-02,\n",
       "         -3.4263022e-03, -1.9236922e-02],\n",
       "        [ 2.0660758e-03, -5.0330162e-03, -1.6095266e-03,  4.6050299e-02,\n",
       "         -3.4905992e-02,  2.8494272e-02,  1.9751489e-05, -1.1864983e-02,\n",
       "         -3.4263022e-03, -1.9236922e-02],\n",
       "        [ 2.0660758e-03, -5.0330162e-03, -1.6095266e-03,  4.6050299e-02,\n",
       "         -3.4905992e-02,  2.8494272e-02,  1.9751489e-05, -1.1864983e-02,\n",
       "         -3.4263022e-03, -1.9236922e-02],\n",
       "        [ 2.0660758e-03, -5.0330162e-03, -1.6095266e-03,  4.6050299e-02,\n",
       "         -3.4905992e-02,  2.8494272e-02,  1.9751489e-05, -1.1864983e-02,\n",
       "         -3.4263022e-03, -1.9236922e-02],\n",
       "        [-4.0808775e-02,  2.1020684e-02, -4.7200073e-02,  2.3783114e-02,\n",
       "          1.0149837e-02, -2.3755206e-02, -3.7890684e-02,  2.7252797e-02,\n",
       "         -1.1734746e-02, -1.3692953e-02],\n",
       "        [ 3.3494744e-02,  4.5730326e-02, -3.0983925e-02,  1.1733867e-02,\n",
       "          3.0210998e-02, -1.3996281e-02,  2.3627393e-03, -4.8006203e-02,\n",
       "         -4.2935468e-02,  1.6042043e-02],\n",
       "        [-5.1155463e-03, -1.6353060e-02, -2.6603937e-02,  5.5949800e-03,\n",
       "          4.6329010e-02,  4.3736581e-02, -3.0159986e-02,  3.2994818e-02,\n",
       "          3.1059980e-03,  3.1092849e-02],\n",
       "        [ 8.4887855e-03, -2.8753988e-03,  3.4284186e-02, -3.8868941e-02,\n",
       "         -2.6198698e-02, -4.5263734e-02,  1.6289879e-02, -4.1787960e-02,\n",
       "          2.6269555e-03,  1.6264644e-02]]], dtype=float32)"
      ]
     },
     "execution_count": 11,
     "metadata": {},
     "output_type": "execute_result"
    }
   ],
   "source": [
    "model.predict(embedded_docs)"
   ]
  },
  {
   "cell_type": "code",
   "execution_count": 12,
   "metadata": {},
   "outputs": [
    {
     "data": {
      "text/plain": [
       "array([   0,    0,    0,    0, 5568, 8551, 9028, 5875])"
      ]
     },
     "execution_count": 12,
     "metadata": {},
     "output_type": "execute_result"
    }
   ],
   "source": [
    "embedded_docs[0]"
   ]
  },
  {
   "cell_type": "code",
   "execution_count": 13,
   "metadata": {},
   "outputs": [
    {
     "name": "stdout",
     "output_type": "stream",
     "text": [
      "\u001b[1m1/1\u001b[0m \u001b[32m━━━━━━━━━━━━━━━━━━━━\u001b[0m\u001b[37m\u001b[0m \u001b[1m0s\u001b[0m 62ms/step\n"
     ]
    },
    {
     "data": {
      "text/plain": [
       "array([[[ 2.0660758e-03, -5.0330162e-03, -1.6095266e-03,  4.6050299e-02,\n",
       "         -3.4905992e-02,  2.8494272e-02,  1.9751489e-05, -1.1864983e-02,\n",
       "         -3.4263022e-03, -1.9236922e-02],\n",
       "        [ 2.0660758e-03, -5.0330162e-03, -1.6095266e-03,  4.6050299e-02,\n",
       "         -3.4905992e-02,  2.8494272e-02,  1.9751489e-05, -1.1864983e-02,\n",
       "         -3.4263022e-03, -1.9236922e-02],\n",
       "        [ 2.0660758e-03, -5.0330162e-03, -1.6095266e-03,  4.6050299e-02,\n",
       "         -3.4905992e-02,  2.8494272e-02,  1.9751489e-05, -1.1864983e-02,\n",
       "         -3.4263022e-03, -1.9236922e-02],\n",
       "        [ 2.0660758e-03, -5.0330162e-03, -1.6095266e-03,  4.6050299e-02,\n",
       "         -3.4905992e-02,  2.8494272e-02,  1.9751489e-05, -1.1864983e-02,\n",
       "         -3.4263022e-03, -1.9236922e-02],\n",
       "        [ 8.6981878e-03, -2.5889670e-02,  4.2415146e-02,  5.3854808e-03,\n",
       "         -2.3356711e-02,  4.2219210e-02,  4.9663376e-02, -1.1169504e-02,\n",
       "         -1.1303127e-02,  3.4552779e-02],\n",
       "        [-4.3614533e-02, -1.2159158e-02,  3.6267292e-02, -4.9589396e-02,\n",
       "         -2.4407482e-02,  3.9311338e-02, -4.6098243e-02,  4.3265317e-02,\n",
       "          1.2771670e-02,  2.8225455e-02],\n",
       "        [-6.8392754e-03, -1.5358757e-02, -2.0224834e-02,  9.2170350e-03,\n",
       "          2.8542254e-02, -3.7094593e-02,  1.8356416e-02,  1.3609018e-02,\n",
       "          2.0781841e-02, -4.5363903e-02],\n",
       "        [-1.3359211e-02, -2.7649343e-02,  3.7230141e-03,  4.8500661e-02,\n",
       "          1.7450940e-02, -3.1708494e-02, -4.0175736e-02, -1.6043298e-03,\n",
       "          3.1276356e-02, -1.2800217e-02]]], dtype=float32)"
      ]
     },
     "execution_count": 13,
     "metadata": {},
     "output_type": "execute_result"
    }
   ],
   "source": [
    "import numpy as np\n",
    "\n",
    "model.predict(np.array([embedded_docs[0]]))"
   ]
  }
 ],
 "metadata": {
  "kernelspec": {
   "display_name": "base",
   "language": "python",
   "name": "python3"
  },
  "language_info": {
   "codemirror_mode": {
    "name": "ipython",
    "version": 3
   },
   "file_extension": ".py",
   "mimetype": "text/x-python",
   "name": "python",
   "nbconvert_exporter": "python",
   "pygments_lexer": "ipython3",
   "version": "3.11.5"
  }
 },
 "nbformat": 4,
 "nbformat_minor": 2
}
