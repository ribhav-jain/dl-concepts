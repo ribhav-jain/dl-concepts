{
 "cells": [
  {
   "cell_type": "code",
   "execution_count": 1,
   "metadata": {},
   "outputs": [],
   "source": [
    "from tensorflow.keras.datasets import imdb\n",
    "from tensorflow.keras.preprocessing import sequence\n",
    "from tensorflow.keras.models import load_model"
   ]
  },
  {
   "cell_type": "code",
   "execution_count": 2,
   "metadata": {},
   "outputs": [],
   "source": [
    "# Load the IMDB dataset word index\n",
    "word_index = imdb.get_word_index()\n",
    "reverse_word_index = {value: key for key, value in word_index.items()}"
   ]
  },
  {
   "cell_type": "code",
   "execution_count": 3,
   "metadata": {},
   "outputs": [
    {
     "name": "stderr",
     "output_type": "stream",
     "text": [
      "WARNING:absl:Compiled the loaded model, but the compiled metrics have yet to be built. `model.compile_metrics` will be empty until you train or evaluate the model.\n"
     ]
    },
    {
     "data": {
      "text/html": [
       "<pre style=\"white-space:pre;overflow-x:auto;line-height:normal;font-family:Menlo,'DejaVu Sans Mono',consolas,'Courier New',monospace\"><span style=\"font-weight: bold\">Model: \"sequential\"</span>\n",
       "</pre>\n"
      ],
      "text/plain": [
       "\u001b[1mModel: \"sequential\"\u001b[0m\n"
      ]
     },
     "metadata": {},
     "output_type": "display_data"
    },
    {
     "data": {
      "text/html": [
       "<pre style=\"white-space:pre;overflow-x:auto;line-height:normal;font-family:Menlo,'DejaVu Sans Mono',consolas,'Courier New',monospace\">┏━━━━━━━━━━━━━━━━━━━━━━━━━━━━━━━━━┳━━━━━━━━━━━━━━━━━━━━━━━━┳━━━━━━━━━━━━━━━┓\n",
       "┃<span style=\"font-weight: bold\"> Layer (type)                    </span>┃<span style=\"font-weight: bold\"> Output Shape           </span>┃<span style=\"font-weight: bold\">       Param # </span>┃\n",
       "┡━━━━━━━━━━━━━━━━━━━━━━━━━━━━━━━━━╇━━━━━━━━━━━━━━━━━━━━━━━━╇━━━━━━━━━━━━━━━┩\n",
       "│ embedding (<span style=\"color: #0087ff; text-decoration-color: #0087ff\">Embedding</span>)           │ (<span style=\"color: #00af00; text-decoration-color: #00af00\">32</span>, <span style=\"color: #00af00; text-decoration-color: #00af00\">500</span>, <span style=\"color: #00af00; text-decoration-color: #00af00\">128</span>)         │     <span style=\"color: #00af00; text-decoration-color: #00af00\">1,280,000</span> │\n",
       "├─────────────────────────────────┼────────────────────────┼───────────────┤\n",
       "│ simple_rnn (<span style=\"color: #0087ff; text-decoration-color: #0087ff\">SimpleRNN</span>)          │ (<span style=\"color: #00af00; text-decoration-color: #00af00\">32</span>, <span style=\"color: #00af00; text-decoration-color: #00af00\">128</span>)              │        <span style=\"color: #00af00; text-decoration-color: #00af00\">32,896</span> │\n",
       "├─────────────────────────────────┼────────────────────────┼───────────────┤\n",
       "│ dense (<span style=\"color: #0087ff; text-decoration-color: #0087ff\">Dense</span>)                   │ (<span style=\"color: #00af00; text-decoration-color: #00af00\">32</span>, <span style=\"color: #00af00; text-decoration-color: #00af00\">1</span>)                │           <span style=\"color: #00af00; text-decoration-color: #00af00\">129</span> │\n",
       "└─────────────────────────────────┴────────────────────────┴───────────────┘\n",
       "</pre>\n"
      ],
      "text/plain": [
       "┏━━━━━━━━━━━━━━━━━━━━━━━━━━━━━━━━━┳━━━━━━━━━━━━━━━━━━━━━━━━┳━━━━━━━━━━━━━━━┓\n",
       "┃\u001b[1m \u001b[0m\u001b[1mLayer (type)                   \u001b[0m\u001b[1m \u001b[0m┃\u001b[1m \u001b[0m\u001b[1mOutput Shape          \u001b[0m\u001b[1m \u001b[0m┃\u001b[1m \u001b[0m\u001b[1m      Param #\u001b[0m\u001b[1m \u001b[0m┃\n",
       "┡━━━━━━━━━━━━━━━━━━━━━━━━━━━━━━━━━╇━━━━━━━━━━━━━━━━━━━━━━━━╇━━━━━━━━━━━━━━━┩\n",
       "│ embedding (\u001b[38;5;33mEmbedding\u001b[0m)           │ (\u001b[38;5;34m32\u001b[0m, \u001b[38;5;34m500\u001b[0m, \u001b[38;5;34m128\u001b[0m)         │     \u001b[38;5;34m1,280,000\u001b[0m │\n",
       "├─────────────────────────────────┼────────────────────────┼───────────────┤\n",
       "│ simple_rnn (\u001b[38;5;33mSimpleRNN\u001b[0m)          │ (\u001b[38;5;34m32\u001b[0m, \u001b[38;5;34m128\u001b[0m)              │        \u001b[38;5;34m32,896\u001b[0m │\n",
       "├─────────────────────────────────┼────────────────────────┼───────────────┤\n",
       "│ dense (\u001b[38;5;33mDense\u001b[0m)                   │ (\u001b[38;5;34m32\u001b[0m, \u001b[38;5;34m1\u001b[0m)                │           \u001b[38;5;34m129\u001b[0m │\n",
       "└─────────────────────────────────┴────────────────────────┴───────────────┘\n"
      ]
     },
     "metadata": {},
     "output_type": "display_data"
    },
    {
     "data": {
      "text/html": [
       "<pre style=\"white-space:pre;overflow-x:auto;line-height:normal;font-family:Menlo,'DejaVu Sans Mono',consolas,'Courier New',monospace\"><span style=\"font-weight: bold\"> Total params: </span><span style=\"color: #00af00; text-decoration-color: #00af00\">1,313,027</span> (5.01 MB)\n",
       "</pre>\n"
      ],
      "text/plain": [
       "\u001b[1m Total params: \u001b[0m\u001b[38;5;34m1,313,027\u001b[0m (5.01 MB)\n"
      ]
     },
     "metadata": {},
     "output_type": "display_data"
    },
    {
     "data": {
      "text/html": [
       "<pre style=\"white-space:pre;overflow-x:auto;line-height:normal;font-family:Menlo,'DejaVu Sans Mono',consolas,'Courier New',monospace\"><span style=\"font-weight: bold\"> Trainable params: </span><span style=\"color: #00af00; text-decoration-color: #00af00\">1,313,025</span> (5.01 MB)\n",
       "</pre>\n"
      ],
      "text/plain": [
       "\u001b[1m Trainable params: \u001b[0m\u001b[38;5;34m1,313,025\u001b[0m (5.01 MB)\n"
      ]
     },
     "metadata": {},
     "output_type": "display_data"
    },
    {
     "data": {
      "text/html": [
       "<pre style=\"white-space:pre;overflow-x:auto;line-height:normal;font-family:Menlo,'DejaVu Sans Mono',consolas,'Courier New',monospace\"><span style=\"font-weight: bold\"> Non-trainable params: </span><span style=\"color: #00af00; text-decoration-color: #00af00\">0</span> (0.00 B)\n",
       "</pre>\n"
      ],
      "text/plain": [
       "\u001b[1m Non-trainable params: \u001b[0m\u001b[38;5;34m0\u001b[0m (0.00 B)\n"
      ]
     },
     "metadata": {},
     "output_type": "display_data"
    },
    {
     "data": {
      "text/html": [
       "<pre style=\"white-space:pre;overflow-x:auto;line-height:normal;font-family:Menlo,'DejaVu Sans Mono',consolas,'Courier New',monospace\"><span style=\"font-weight: bold\"> Optimizer params: </span><span style=\"color: #00af00; text-decoration-color: #00af00\">2</span> (12.00 B)\n",
       "</pre>\n"
      ],
      "text/plain": [
       "\u001b[1m Optimizer params: \u001b[0m\u001b[38;5;34m2\u001b[0m (12.00 B)\n"
      ]
     },
     "metadata": {},
     "output_type": "display_data"
    }
   ],
   "source": [
    "# Load the pre-trained model with ReLU activation\n",
    "model = load_model(\"simple_rnn_imdb.h5\")\n",
    "model.summary()"
   ]
  },
  {
   "cell_type": "code",
   "execution_count": 4,
   "metadata": {},
   "outputs": [
    {
     "data": {
      "text/plain": [
       "[array([[-0.2376849 , -0.0661669 , -0.01634927, ..., -0.03192323,\n",
       "         -0.33065495, -0.06279507],\n",
       "        [-0.17947513, -0.0062453 , -0.15069173, ..., -0.04063191,\n",
       "         -0.21244481,  0.0639011 ],\n",
       "        [-0.0131959 , -0.0485913 ,  0.01608339, ...,  0.03483969,\n",
       "         -0.01807551,  0.06233026],\n",
       "        ...,\n",
       "        [-0.03252881,  0.01278788,  0.02949023, ...,  0.06863881,\n",
       "          0.04230193,  0.02983955],\n",
       "        [ 0.12625793, -0.15961562,  0.13476777, ...,  0.11936535,\n",
       "          0.13874044, -0.11582292],\n",
       "        [-0.00398239,  0.10100527, -0.04781063, ..., -0.07795512,\n",
       "          0.03156802, -0.00972104]], dtype=float32),\n",
       " array([[-0.05093329,  0.20402725,  0.1529275 , ..., -0.06715086,\n",
       "          0.15531258, -0.11466442],\n",
       "        [ 0.03535717,  0.1801148 ,  0.1802147 , ..., -0.06067873,\n",
       "         -0.02966263, -0.1649524 ],\n",
       "        [-0.14946485, -0.01300667,  0.07095329, ..., -0.06679253,\n",
       "         -0.10786632, -0.03018861],\n",
       "        ...,\n",
       "        [-0.0846773 , -0.03074275, -0.10777433, ..., -0.01323467,\n",
       "          0.10114861,  0.21946786],\n",
       "        [ 0.13162507,  0.08685695,  0.02580195, ..., -0.15167686,\n",
       "         -0.18103497, -0.13708872],\n",
       "        [-0.07323413, -0.07945452, -0.09234028, ..., -0.19903407,\n",
       "         -0.04645902,  0.07056672]], dtype=float32),\n",
       " array([[-0.04557795,  0.05752724, -0.04623049, ..., -0.00707617,\n",
       "          0.0065453 ,  0.04761773],\n",
       "        [ 0.02827853,  0.15441008, -0.03374506, ...,  0.01210294,\n",
       "         -0.03228303, -0.0568711 ],\n",
       "        [ 0.06820417, -0.05286317, -0.08114435, ...,  0.14142355,\n",
       "          0.02455596, -0.00468135],\n",
       "        ...,\n",
       "        [ 0.09848737,  0.08112235, -0.02251441, ..., -0.0098096 ,\n",
       "         -0.0235664 , -0.05427283],\n",
       "        [ 0.05823453,  0.15239307,  0.03914522, ..., -0.06531093,\n",
       "         -0.12415116,  0.00966399],\n",
       "        [-0.00600801, -0.01221829, -0.03559725, ...,  0.11108742,\n",
       "          0.03110684,  0.11624724]], dtype=float32),\n",
       " array([-0.00899382,  0.0013906 , -0.01209957,  0.00531695,  0.01650074,\n",
       "         0.00557811,  0.00969789, -0.01409065,  0.00867703, -0.00933657,\n",
       "        -0.0075336 ,  0.00018684,  0.01204022,  0.01654506, -0.02548908,\n",
       "        -0.01117183, -0.01209655, -0.01276409,  0.00908393,  0.01180596,\n",
       "        -0.00591284, -0.02998187, -0.01824983, -0.00760382,  0.01824863,\n",
       "         0.03095443,  0.01118285,  0.00599864,  0.15114383, -0.01394547,\n",
       "        -0.01331642,  0.01745602, -0.00369156,  0.02596965, -0.01249672,\n",
       "         0.01108774,  0.01633607,  0.01457199, -0.02372587, -0.02922089,\n",
       "        -0.0147238 , -0.02203374, -0.01546091, -0.00606001,  0.00616132,\n",
       "        -0.01204508, -0.03269136, -0.01216078, -0.02750199,  0.00405477,\n",
       "         0.01226516,  0.00201349,  0.01081701,  0.01251789, -0.01428599,\n",
       "        -0.01306936,  0.01270855,  0.02554011, -0.02448292,  0.00725041,\n",
       "         0.01465586, -0.02589725, -0.01975028,  0.00943243, -0.02851776,\n",
       "        -0.01324338,  0.01917111, -0.01956213, -0.01693597,  0.01032912,\n",
       "         0.01641438, -0.01051659, -0.01866009, -0.00663009, -0.01002898,\n",
       "         0.02297666,  0.01045176,  0.01319549,  0.00929561,  0.0266364 ,\n",
       "        -0.02360679, -0.01446373, -0.0162122 , -0.0176829 , -0.02706185,\n",
       "         0.00600287,  0.00150328,  0.00486813,  0.00718216,  0.023103  ,\n",
       "        -0.0218377 ,  0.05322216, -0.00077586, -0.00652948,  0.00806012,\n",
       "         0.01832418, -0.0232983 , -0.01722823, -0.02577123,  0.00902857,\n",
       "        -0.0020508 , -0.01597875,  0.01557825,  0.00632396, -0.00178662,\n",
       "        -0.01820149, -0.00997697,  0.01474981,  0.01100261, -0.01260737,\n",
       "        -0.01486783,  0.01032681, -0.00393463,  0.02172877, -0.00044609,\n",
       "         0.00881243, -0.01363589,  0.01817087, -0.01485063, -0.02389719,\n",
       "        -0.01820542, -0.00770373,  0.00393318, -0.00026772, -0.0195383 ,\n",
       "        -0.01477587,  0.00095383,  0.0152934 ], dtype=float32),\n",
       " array([[ 1.52393401e-01],\n",
       "        [ 1.16534479e-01],\n",
       "        [ 2.19970375e-01],\n",
       "        [-2.00936690e-01],\n",
       "        [ 7.94377699e-02],\n",
       "        [ 1.76454410e-01],\n",
       "        [-1.24826767e-01],\n",
       "        [ 1.79420084e-01],\n",
       "        [ 6.29342645e-02],\n",
       "        [ 2.47986346e-01],\n",
       "        [-1.98312312e-01],\n",
       "        [-1.12298787e-01],\n",
       "        [ 7.04487026e-01],\n",
       "        [-2.23333493e-01],\n",
       "        [-1.95866808e-01],\n",
       "        [ 8.50995600e-01],\n",
       "        [-3.56908739e-01],\n",
       "        [ 8.59010145e-02],\n",
       "        [-3.23375873e-02],\n",
       "        [ 1.24171950e-01],\n",
       "        [ 9.21775475e-02],\n",
       "        [-2.16415420e-01],\n",
       "        [-2.00236782e-01],\n",
       "        [ 2.25918457e-01],\n",
       "        [-2.46700346e-01],\n",
       "        [ 5.19662201e-01],\n",
       "        [ 3.18621218e-01],\n",
       "        [-5.64534403e-02],\n",
       "        [ 1.82436347e-01],\n",
       "        [-8.18005055e-02],\n",
       "        [-5.86485386e-01],\n",
       "        [-3.16004962e-01],\n",
       "        [ 1.55663237e-01],\n",
       "        [-6.37732670e-02],\n",
       "        [ 1.26698583e-01],\n",
       "        [-1.56730145e-01],\n",
       "        [-5.16026437e-01],\n",
       "        [ 6.92399025e-01],\n",
       "        [-1.07763194e-01],\n",
       "        [-1.69368625e-01],\n",
       "        [-1.00508697e-01],\n",
       "        [-2.29774162e-01],\n",
       "        [-1.56483948e-02],\n",
       "        [ 1.59684852e-01],\n",
       "        [-2.08292156e-01],\n",
       "        [-1.59396566e-02],\n",
       "        [ 4.57505994e-02],\n",
       "        [ 2.62993634e-01],\n",
       "        [-7.79442936e-02],\n",
       "        [ 8.86701822e-01],\n",
       "        [-1.99473560e-01],\n",
       "        [ 1.26103595e-01],\n",
       "        [ 2.82021482e-02],\n",
       "        [ 7.90238008e-02],\n",
       "        [-1.88775435e-01],\n",
       "        [ 1.54121771e-01],\n",
       "        [-9.10509974e-02],\n",
       "        [-1.59319326e-01],\n",
       "        [-3.33175331e-01],\n",
       "        [-3.63222733e-02],\n",
       "        [ 1.83230400e-01],\n",
       "        [ 2.44036481e-01],\n",
       "        [ 9.54689234e-02],\n",
       "        [ 1.23215519e-01],\n",
       "        [ 1.74541861e-01],\n",
       "        [ 6.79922774e-02],\n",
       "        [-4.06653345e-01],\n",
       "        [ 2.24369958e-01],\n",
       "        [ 2.04310447e-01],\n",
       "        [ 7.95714021e-01],\n",
       "        [-2.32679188e-01],\n",
       "        [ 6.78689629e-02],\n",
       "        [ 8.37970898e-02],\n",
       "        [-4.22581472e-02],\n",
       "        [ 4.00377344e-03],\n",
       "        [-1.90388039e-01],\n",
       "        [-3.15335065e-01],\n",
       "        [-1.22892901e-01],\n",
       "        [-5.31168580e-01],\n",
       "        [-1.77799597e-01],\n",
       "        [-3.89744341e-01],\n",
       "        [-1.15462638e-01],\n",
       "        [ 9.63795483e-02],\n",
       "        [ 1.01432018e-01],\n",
       "        [-1.11204222e-01],\n",
       "        [ 1.33138788e+00],\n",
       "        [-2.76753809e-02],\n",
       "        [-1.67538419e-01],\n",
       "        [ 1.27538860e-01],\n",
       "        [-5.22451103e-02],\n",
       "        [ 1.94684774e-01],\n",
       "        [ 9.65199992e-02],\n",
       "        [-2.51816452e-01],\n",
       "        [-1.29803449e-01],\n",
       "        [ 2.00389609e-01],\n",
       "        [-8.98128003e-02],\n",
       "        [-1.89576373e-02],\n",
       "        [-6.11827731e-01],\n",
       "        [ 6.22145906e-02],\n",
       "        [ 2.03670606e-01],\n",
       "        [ 5.95206060e-02],\n",
       "        [ 2.42028311e-01],\n",
       "        [-6.99194893e-02],\n",
       "        [ 1.89796597e-01],\n",
       "        [ 8.36375877e-02],\n",
       "        [ 2.07908660e-01],\n",
       "        [ 1.28353804e-01],\n",
       "        [ 8.93232703e-01],\n",
       "        [ 4.62087244e-03],\n",
       "        [ 6.58137500e-02],\n",
       "        [ 3.73596959e-02],\n",
       "        [-2.38672778e-01],\n",
       "        [ 1.43228471e-01],\n",
       "        [-2.64371753e-01],\n",
       "        [ 1.34541932e-02],\n",
       "        [-2.15157464e-01],\n",
       "        [ 3.56233126e-04],\n",
       "        [-3.54259729e-01],\n",
       "        [ 9.88129079e-02],\n",
       "        [ 1.11121416e-01],\n",
       "        [-2.35776737e-01],\n",
       "        [-1.37589127e-01],\n",
       "        [-2.42115125e-01],\n",
       "        [ 2.54542589e-01],\n",
       "        [-1.12050682e-01],\n",
       "        [ 1.01523191e-01],\n",
       "        [-3.87655431e-03],\n",
       "        [-1.25155017e-01]], dtype=float32),\n",
       " array([0.30344564], dtype=float32)]"
      ]
     },
     "execution_count": 4,
     "metadata": {},
     "output_type": "execute_result"
    }
   ],
   "source": [
    "model.get_weights()"
   ]
  },
  {
   "cell_type": "code",
   "execution_count": 5,
   "metadata": {},
   "outputs": [],
   "source": [
    "# Step 2: Helper Functions\n",
    "# Function to decode reviews\n",
    "def decode_review(encoded_review):\n",
    "    return \" \".join([reverse_word_index.get(i - 3, \"?\") for i in encoded_review])\n",
    "\n",
    "\n",
    "# Function to preprocess user input\n",
    "def preprocess_text(text):\n",
    "    words = text.lower().split()\n",
    "    encoded_review = [word_index.get(word, 2) + 3 for word in words]\n",
    "    padded_review = sequence.pad_sequences([encoded_review], maxlen=500)\n",
    "    return padded_review"
   ]
  },
  {
   "cell_type": "code",
   "execution_count": 6,
   "metadata": {},
   "outputs": [],
   "source": [
    "### Prediction  function\n",
    "\n",
    "def predict_sentiment(review):\n",
    "    preprocessed_input = preprocess_text(review)\n",
    "\n",
    "    prediction = model.predict(preprocessed_input)\n",
    "\n",
    "    sentiment = \"Positive\" if prediction[0][0] > 0.5 else \"Negative\"\n",
    "\n",
    "    return sentiment, prediction[0][0]"
   ]
  },
  {
   "cell_type": "code",
   "execution_count": 7,
   "metadata": {},
   "outputs": [
    {
     "name": "stdout",
     "output_type": "stream",
     "text": [
      "\u001b[1m1/1\u001b[0m \u001b[32m━━━━━━━━━━━━━━━━━━━━\u001b[0m\u001b[37m\u001b[0m \u001b[1m0s\u001b[0m 169ms/step\n",
      "Review: This movie was fantastic! The acting was great and the plot was thrilling.\n",
      "Sentiment: Positive\n",
      "Prediction Score: 0.5730985999107361\n"
     ]
    }
   ],
   "source": [
    "# Step 4: User Input and Prediction\n",
    "# Example review for prediction\n",
    "example_review = (\n",
    "    \"This movie was fantastic! The acting was great and the plot was thrilling.\"\n",
    ")\n",
    "\n",
    "sentiment, score = predict_sentiment(example_review)\n",
    "\n",
    "print(f\"Review: {example_review}\")\n",
    "print(f\"Sentiment: {sentiment}\")\n",
    "print(f\"Prediction Score: {score}\")"
   ]
  }
 ],
 "metadata": {
  "kernelspec": {
   "display_name": "base",
   "language": "python",
   "name": "python3"
  },
  "language_info": {
   "codemirror_mode": {
    "name": "ipython",
    "version": 3
   },
   "file_extension": ".py",
   "mimetype": "text/x-python",
   "name": "python",
   "nbconvert_exporter": "python",
   "pygments_lexer": "ipython3",
   "version": "3.11.5"
  }
 },
 "nbformat": 4,
 "nbformat_minor": 2
}
